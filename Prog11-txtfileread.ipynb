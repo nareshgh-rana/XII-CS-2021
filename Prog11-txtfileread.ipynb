{
  "nbformat": 4,
  "nbformat_minor": 0,
  "metadata": {
    "colab": {
      "name": "txtfileread.ipynb",
      "provenance": [],
      "authorship_tag": "ABX9TyOjExWEbACDHovEmayAO7We",
      "include_colab_link": true
    },
    "kernelspec": {
      "name": "python3",
      "display_name": "Python 3"
    },
    "language_info": {
      "name": "python"
    }
  },
  "cells": [
    {
      "cell_type": "markdown",
      "metadata": {
        "id": "view-in-github",
        "colab_type": "text"
      },
      "source": [
        "<a href=\"https://colab.research.google.com/github/nareshgh-rana/XII-CS-2021/blob/main/Prog11-txtfileread.ipynb\" target=\"_parent\"><img src=\"https://colab.research.google.com/assets/colab-badge.svg\" alt=\"Open In Colab\"/></a>"
      ]
    },
    {
      "cell_type": "code",
      "metadata": {
        "id": "Fz8d6BBt9HUP"
      },
      "source": [
        "f=open('hello.txt','w')\n",
        "f.write(\"hello welcome to data file handling(txt file) in python\")\n",
        "f.close()"
      ],
      "execution_count": null,
      "outputs": []
    },
    {
      "cell_type": "code",
      "metadata": {
        "colab": {
          "base_uri": "https://localhost:8080/"
        },
        "id": "ndWl34899i48",
        "outputId": "6a7c5166-f104-44b7-f3bb-f12bf35b7367"
      },
      "source": [
        "f=open('hello.txt','r')\n",
        "g=f.read()\n",
        "print(f.name,g)"
      ],
      "execution_count": null,
      "outputs": [
        {
          "output_type": "stream",
          "text": [
            "hello.txt hello welcome to data file handling(txt file) in python\n"
          ],
          "name": "stdout"
        }
      ]
    },
    {
      "cell_type": "code",
      "metadata": {
        "colab": {
          "base_uri": "https://localhost:8080/"
        },
        "id": "qdXOOvrs6x-Y",
        "outputId": "67d9353b-1ff0-40fd-ca5e-9c642f1096ee"
      },
      "source": [
        "'''Practical 11:\n",
        "Write a python program to read and display file content line by line with each word separated by #.\n",
        "\n",
        "''';\n",
        "\n",
        "#file=input('Enter the file Name to be Open: ') \n",
        "f =open('hello.txt','r') \n",
        "item=[] \n",
        "for line in f:\n",
        "    words=line.split() \n",
        "    for i in words:\n",
        "        item.append(i) \n",
        "print('#'.join(item))"
      ],
      "execution_count": null,
      "outputs": [
        {
          "output_type": "stream",
          "text": [
            "hello#welcome#to#data#file#handling(txt#file)#in#python\n"
          ],
          "name": "stdout"
        }
      ]
    },
    {
      "cell_type": "code",
      "metadata": {
        "id": "9r3AWfbd7I8R"
      },
      "source": [
        ""
      ],
      "execution_count": null,
      "outputs": []
    }
  ]
}